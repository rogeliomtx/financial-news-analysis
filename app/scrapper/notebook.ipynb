{
 "cells": [
  {
   "cell_type": "code",
   "execution_count": 1,
   "metadata": {},
   "outputs": [
    {
     "name": "stdout",
     "output_type": "stream",
     "text": [
      "Requirement already satisfied: requests in /opt/homebrew/lib/python3.11/site-packages (2.31.0)\n",
      "Requirement already satisfied: charset-normalizer<4,>=2 in /opt/homebrew/lib/python3.11/site-packages (from requests) (3.3.2)\n",
      "Requirement already satisfied: idna<4,>=2.5 in /opt/homebrew/lib/python3.11/site-packages (from requests) (3.6)\n",
      "Requirement already satisfied: urllib3<3,>=1.21.1 in /opt/homebrew/lib/python3.11/site-packages (from requests) (2.0.7)\n",
      "Requirement already satisfied: certifi>=2017.4.17 in /opt/homebrew/lib/python3.11/site-packages (from requests) (2023.11.17)\n",
      "Requirement already satisfied: beautifulsoup4 in /opt/homebrew/lib/python3.11/site-packages (4.12.2)\n",
      "Requirement already satisfied: soupsieve>1.2 in /opt/homebrew/lib/python3.11/site-packages (from beautifulsoup4) (2.5)\n"
     ]
    }
   ],
   "source": [
    "# ! pip install requests\n",
    "# ! pip install beautifulsoup4"
   ]
  },
  {
   "cell_type": "code",
   "execution_count": 2,
   "metadata": {},
   "outputs": [],
   "source": [
    "import requests\n",
    "from bs4 import BeautifulSoup"
   ]
  },
  {
   "cell_type": "code",
   "execution_count": 3,
   "metadata": {},
   "outputs": [],
   "source": [
    "response = requests.get('https://www.forbes.com/money/')"
   ]
  },
  {
   "cell_type": "code",
   "execution_count": 4,
   "metadata": {},
   "outputs": [],
   "source": [
    "soup = BeautifulSoup(response.text, 'html.parser')"
   ]
  },
  {
   "cell_type": "code",
   "execution_count": 5,
   "metadata": {},
   "outputs": [
    {
     "data": {
      "text/plain": [
       "[<h2 class=\"u00AMdzw\">Shutdown Looms As Congress Can’t Reach An Agreement On Spending</h2>,\n",
       " <h2 class=\"u00AMdzw\">Nvidia’s $250 Billion Surge Boosts S&amp;P 500 To Record High</h2>,\n",
       " <h2 class=\"u00AMdzw\">Inmate Charged In Multimillion-Dollar Drug And Tax Schemes Conducted From Prison</h2>,\n",
       " <h2 class=\"u00AMdzw\">IRS Announces Focus On High-Income Earners Who Have Failed To File Tax Returns</h2>,\n",
       " <h2 class=\"u00AMdzw\">Why Law Firms Could Be Private Equity’s Next Conquest</h2>,\n",
       " <h2 class=\"u00AMdzw\">Crypto Billionaire Mike Novogratz On Bitcoin’s Next Bull Run</h2>,\n",
       " <h2 class=\"u00AMdzw\">From Strength To Strength: Perdoceo Education (PRDO) Beats Q4 Estimates With Eye On 2024 Growth</h2>,\n",
       " <h2 class=\"u00AMdzw\">Tax Refunds Edge Higher As Tax Filing Season Rolls On</h2>,\n",
       " <h2 class=\"u00AMdzw\">SK Group’s SPAC To Merge With Online Trading Platform Webull In $7.3 Billion Deal</h2>,\n",
       " <h2 class=\"g3mAYQ8J ibL4kWHc KbI-PWh6 WkFbYh-E\">More From Money</h2>]"
      ]
     },
     "execution_count": 5,
     "metadata": {},
     "output_type": "execute_result"
    }
   ],
   "source": [
    "soup.find_all('h2')"
   ]
  },
  {
   "cell_type": "code",
   "execution_count": 7,
   "metadata": {},
   "outputs": [
    {
     "name": "stdout",
     "output_type": "stream",
     "text": [
      "Shutdown Looms As Congress Can’t Reach An Agreement On Spending\n",
      "Nvidia’s $250 Billion Surge Boosts S&P 500 To Record High\n",
      "Inmate Charged In Multimillion-Dollar Drug And Tax Schemes Conducted From Prison\n",
      "IRS Announces Focus On High-Income Earners Who Have Failed To File Tax Returns\n",
      "Why Law Firms Could Be Private Equity’s Next Conquest\n",
      "Crypto Billionaire Mike Novogratz On Bitcoin’s Next Bull Run\n",
      "From Strength To Strength: Perdoceo Education (PRDO) Beats Q4 Estimates With Eye On 2024 Growth\n",
      "Tax Refunds Edge Higher As Tax Filing Season Rolls On\n",
      "SK Group’s SPAC To Merge With Online Trading Platform Webull In $7.3 Billion Deal\n"
     ]
    }
   ],
   "source": [
    "h2s = soup.find_all('h2', class_='u00AMdzw')\n",
    "for h2 in h2s:\n",
    "    print(h2.text)"
   ]
  }
 ],
 "metadata": {
  "kernelspec": {
   "display_name": "Python 3",
   "language": "python",
   "name": "python3"
  },
  "language_info": {
   "codemirror_mode": {
    "name": "ipython",
    "version": 3
   },
   "file_extension": ".py",
   "mimetype": "text/x-python",
   "name": "python",
   "nbconvert_exporter": "python",
   "pygments_lexer": "ipython3",
   "version": "3.11.8"
  }
 },
 "nbformat": 4,
 "nbformat_minor": 2
}
